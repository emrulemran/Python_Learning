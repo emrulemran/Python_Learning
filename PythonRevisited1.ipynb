{
  "nbformat": 4,
  "nbformat_minor": 0,
  "metadata": {
    "colab": {
      "provenance": [],
      "authorship_tag": "ABX9TyO5Xhzr06tepkVnn2DDkS4P",
      "include_colab_link": true
    },
    "kernelspec": {
      "name": "python3",
      "display_name": "Python 3"
    },
    "language_info": {
      "name": "python"
    }
  },
  "cells": [
    {
      "cell_type": "markdown",
      "metadata": {
        "id": "view-in-github",
        "colab_type": "text"
      },
      "source": [
        "<a href=\"https://colab.research.google.com/github/emrulemran/Python_Learning/blob/main/PythonRevisited1.ipynb\" target=\"_parent\"><img src=\"https://colab.research.google.com/assets/colab-badge.svg\" alt=\"Open In Colab\"/></a>"
      ]
    },
    {
      "cell_type": "code",
      "execution_count": null,
      "metadata": {
        "colab": {
          "base_uri": "https://localhost:8080/"
        },
        "id": "yQiYQ1t_o51z",
        "outputId": "fa365ce4-47b0-4065-e600-38658fd51283"
      },
      "outputs": [
        {
          "output_type": "stream",
          "name": "stdout",
          "text": [
            "123\n"
          ]
        }
      ],
      "source": [
        "x = 123\n",
        "print(x)"
      ]
    },
    {
      "cell_type": "code",
      "source": [
        "# pandas series:\n",
        "import pandas as pd\n",
        "\n",
        "a = [1, 3, 5, 7, 9]\n",
        "\n",
        "ser = pd.Series(a)\n",
        "\n",
        "print(ser)"
      ],
      "metadata": {
        "colab": {
          "base_uri": "https://localhost:8080/"
        },
        "id": "0Sb4wWnjpw9F",
        "outputId": "c3f70241-38af-4033-b7f2-a846f2625ad5"
      },
      "execution_count": null,
      "outputs": [
        {
          "output_type": "stream",
          "name": "stdout",
          "text": [
            "0    1\n",
            "1    3\n",
            "2    5\n",
            "3    7\n",
            "4    9\n",
            "dtype: int64\n"
          ]
        }
      ]
    },
    {
      "cell_type": "code",
      "source": [
        "# creating a label:\n",
        "\n",
        "import pandas as pd\n",
        "\n",
        "a = [1, 7, 2, 3]\n",
        "\n",
        "myvar = pd.Series(a, index = ['w', \"x\", \"y\", \"z\"])\n",
        "\n",
        "print(myvar)"
      ],
      "metadata": {
        "colab": {
          "base_uri": "https://localhost:8080/"
        },
        "id": "PBpX7YYlqdDg",
        "outputId": "f516abc7-d399-46db-a790-666a210bdb1c"
      },
      "execution_count": null,
      "outputs": [
        {
          "output_type": "stream",
          "name": "stdout",
          "text": [
            "w    1\n",
            "x    7\n",
            "y    2\n",
            "z    3\n",
            "dtype: int64\n"
          ]
        }
      ]
    },
    {
      "cell_type": "code",
      "source": [
        "# a simple python function:\n",
        "x = 25\n",
        "y = 12\n",
        "\n",
        "def multiply(x, y):\n",
        "  return x * y\n",
        "\n",
        "multiply(x, y)"
      ],
      "metadata": {
        "colab": {
          "base_uri": "https://localhost:8080/"
        },
        "id": "iPg0xQ9pi_J8",
        "outputId": "4840157b-80dd-4bf0-c69e-575b7d44ca1a"
      },
      "execution_count": 1,
      "outputs": [
        {
          "output_type": "execute_result",
          "data": {
            "text/plain": [
              "300"
            ]
          },
          "metadata": {},
          "execution_count": 1
        }
      ]
    }
  ]
}